{
  "nbformat": 4,
  "nbformat_minor": 0,
  "metadata": {
    "colab": {
      "name": "MathAccountCreator.ipynb",
      "provenance": [],
      "collapsed_sections": [],
      "authorship_tag": "ABX9TyMGAfZy2/xEfOL2pFt/+Au4",
      "include_colab_link": true
    },
    "kernelspec": {
      "name": "python3",
      "display_name": "Python 3"
    },
    "language_info": {
      "name": "python"
    }
  },
  "cells": [
    {
      "cell_type": "markdown",
      "metadata": {
        "id": "view-in-github",
        "colab_type": "text"
      },
      "source": [
        "<a href=\"https://colab.research.google.com/github/andersonnb6/MathAccountCreator/blob/main/MathAccountCreator.ipynb\" target=\"_parent\"><img src=\"https://colab.research.google.com/assets/colab-badge.svg\" alt=\"Open In Colab\"/></a>"
      ]
    },
    {
      "cell_type": "markdown",
      "source": [
        "#MathAccountCreator"
      ],
      "metadata": {
        "id": "FIwGNPudJ6_l"
      }
    },
    {
      "cell_type": "code",
      "source": [
        "import random\n",
        "import pandas as pd\n",
        "import numpy as np"
      ],
      "metadata": {
        "id": "WOuH39iDLZVy"
      },
      "execution_count": 1,
      "outputs": []
    },
    {
      "cell_type": "code",
      "execution_count": 2,
      "metadata": {
        "id": "s-B0sjevJ51F",
        "colab": {
          "base_uri": "https://localhost:8080/"
        },
        "outputId": "98d7eb2d-e0db-4f5c-b5ec-0b46ef8b3064"
      },
      "outputs": [
        {
          "output_type": "stream",
          "name": "stdout",
          "text": [
            "                       0\n",
            " + 11 + 9 + 2 - 19 - 3 =\n",
            "+ 1 + 10 - 3 + 16 + 17 =\n",
            " + 1 + 2 + 5 + 12 + 18 =\n",
            "    - 1 - 12 - 13 - 17 =\n",
            "         + 14 + 3 - 19 =\n"
          ]
        }
      ],
      "source": [
        "# translates in https://michaelis.uol.com.br/moderno-ingles/simbolos-matematicos/\n",
        "\n",
        "# Parâmetros\n",
        "min_size_account = 3\n",
        "max_size_account = 7\n",
        "min_numb = 1\n",
        "max_numb = 20\n",
        "total_account = 5\n",
        "\n",
        "# Gerador de contas\n",
        "lst_counts = []\n",
        "i = 0\n",
        "while i < total_account:\n",
        "  # Criando tamanho aleatório de termos na conta\n",
        "  aleatory_size_account = np.random.randint(min_size_account, max_size_account+1, 1)\n",
        "  \n",
        "  # Criando arrays com sinais de operação e números aleatórios\n",
        "  plus_minus = np.random.randint(2, size = aleatory_size_account)\n",
        "  aleatory_numbs = np.random.randint(1, 20, size = aleatory_size_account)\n",
        "\n",
        "  # Loop criador das contas com base nos arrays aleatórios\n",
        "  lst_temp = []\n",
        "  pt = 0\n",
        "  for x in plus_minus:\n",
        "    if plus_minus[pt] == 1:\n",
        "      lst_temp.append('+')\n",
        "    else:\n",
        "      lst_temp.append('-')\n",
        "    lst_temp.append(str(aleatory_numbs[pt]))\n",
        "    pt += 1\n",
        "  \n",
        "  # Adicionando o símbolo de igual\n",
        "  lst_temp.append('=')\n",
        "\n",
        "  # Printando resultados\n",
        "  result = ' '.join(lst_temp)\n",
        "\n",
        "  # Adicionan as contas a lista lst_count\n",
        "  lst_counts.append(str(result))\n",
        "  \n",
        "  # Pointer do loop\n",
        "  i += 1\n",
        "\n",
        "# Printando\n",
        "output = pd.DataFrame(lst_counts)\n",
        "print(output.to_string(index=False))\n",
        "\n"
      ]
    }
  ]
}