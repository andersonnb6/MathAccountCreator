{
  "nbformat": 4,
  "nbformat_minor": 0,
  "metadata": {
    "colab": {
      "name": "MathAccountCreator.ipynb",
      "provenance": [],
      "collapsed_sections": [],
      "authorship_tag": "ABX9TyPuUI386Tr503i8hHckfuHS",
      "include_colab_link": true
    },
    "kernelspec": {
      "name": "python3",
      "display_name": "Python 3"
    },
    "language_info": {
      "name": "python"
    }
  },
  "cells": [
    {
      "cell_type": "markdown",
      "metadata": {
        "id": "view-in-github",
        "colab_type": "text"
      },
      "source": [
        "<a href=\"https://colab.research.google.com/github/andersonnb6/MathAccountCreator/blob/main/MathAccountCreator.ipynb\" target=\"_parent\"><img src=\"https://colab.research.google.com/assets/colab-badge.svg\" alt=\"Open In Colab\"/></a>"
      ]
    },
    {
      "cell_type": "markdown",
      "source": [
        "#MathAccountCreator\n",
        "Criador de operações matemáticas com números aleatórios. É possível através de seu uso determinar i intervalo de números a serem usados e a quantidade de números que deve ter em cada linha de operação."
      ],
      "metadata": {
        "id": "FIwGNPudJ6_l"
      }
    },
    {
      "cell_type": "markdown",
      "source": [
        "### Bibiotecas"
      ],
      "metadata": {
        "id": "fPXL0Ou8LgfT"
      }
    },
    {
      "cell_type": "code",
      "source": [
        "import numpy as np\n",
        "import random"
      ],
      "metadata": {
        "id": "WOuH39iDLZVy"
      },
      "execution_count": 1,
      "outputs": []
    },
    {
      "cell_type": "markdown",
      "source": [
        "### Parâmetros\n",
        "Utilize os parâmetros abaixo para definir como deseja que seja gerada suas operações.\n",
        "\n",
        "\n",
        "*   a: número mínimo de termos na operação\n",
        "*   b: número máximo de termos na operação\n",
        "*   c: menor número a se considerar\n",
        "*   d: maior número a se considerar\n",
        "*   e: total de operações geradas\n",
        "\n"
      ],
      "metadata": {
        "id": "aQzmFbPgLkGh"
      }
    },
    {
      "cell_type": "code",
      "source": [
        "a = 3\n",
        "b = 5\n",
        "c = 1\n",
        "d = 11\n",
        "e = 10"
      ],
      "metadata": {
        "id": "qEq72nUcLo0i"
      },
      "execution_count": 2,
      "outputs": []
    },
    {
      "cell_type": "markdown",
      "source": [
        "### Gerador de contas"
      ],
      "metadata": {
        "id": "nl4YmqOpLshH"
      }
    },
    {
      "cell_type": "code",
      "execution_count": 3,
      "metadata": {
        "id": "s-B0sjevJ51F"
      },
      "outputs": [],
      "source": [
        "# Recebendo parâmetros\n",
        "min_size_account = a\n",
        "max_size_account = b\n",
        "min_numb = c\n",
        "max_numb = d\n",
        "total_account = e\n",
        "\n",
        "# Gerador\n",
        "lst_counts = []\n",
        "str_result = ''\n",
        "i = 0\n",
        "while i < total_account:\n",
        "  # Criando tamanho aleatório de termos na conta\n",
        "  aleatory_size_account = np.random.randint(min_size_account, max_size_account+1, 1)\n",
        "  \n",
        "  # Criando arrays com sinais de operação e números aleatórios\n",
        "  plus_minus = np.random.randint(2, size = aleatory_size_account)\n",
        "  aleatory_numbs = np.random.randint(min_numb, max_numb, size = aleatory_size_account)\n",
        "\n",
        "  # Loop criador das contas com base nos arrays aleatórios\n",
        "  lst_temp = []\n",
        "  pt = 0\n",
        "  for x in plus_minus:\n",
        "    if plus_minus[pt] == 1:\n",
        "      lst_temp.append('+')\n",
        "    else:\n",
        "      lst_temp.append('-')\n",
        "    lst_temp.append(str(aleatory_numbs[pt]))\n",
        "    pt += 1\n",
        "  \n",
        "  # Criando linha com resultado\n",
        "  result = ' '.join(lst_temp) + ' =\\n'\n",
        "  str_result = str_result + result\n",
        "  \n",
        "  # Pointer do loop\n",
        "  i += 1"
      ]
    },
    {
      "cell_type": "markdown",
      "source": [
        "### Resultados\n",
        "Os resultados são gerados e salvos em arquivo .txt em seu ambiente local. Dessa forma, é possível abrir o arquivo e copiar os dados para onde desejar."
      ],
      "metadata": {
        "id": "tbjw71bALzKp"
      }
    },
    {
      "cell_type": "code",
      "source": [
        "# Criando ou substituindo .txt\n",
        "with open('result.txt', 'w') as file_result:\n",
        "    file_result.write('')\n",
        "file_result.close()\n",
        "\n",
        "# Salvando em arquivo .txt\n",
        "with open(\"result.txt\", \"a\") as file_result:\n",
        "  file_result.write(str_result)\n",
        "file_result.close()\n",
        "\n",
        "# Lendo arquivo .txt\n",
        "with open('result.txt') as file_result:\n",
        "    lines = file_result.readlines()\n",
        "    lines = ''.join(lines)\n",
        "    print(lines)\n",
        "file_result.close()"
      ],
      "metadata": {
        "colab": {
          "base_uri": "https://localhost:8080/"
        },
        "id": "VP66JrK6L0hI",
        "outputId": "e934bb65-7a3e-48de-f5f4-50b99fdcb03c"
      },
      "execution_count": 4,
      "outputs": [
        {
          "output_type": "stream",
          "name": "stdout",
          "text": [
            "+ 5 + 8 - 6 + 10 =\n",
            "- 6 - 7 + 6 - 9 - 9 =\n",
            "- 7 - 2 + 3 =\n",
            "- 3 - 5 + 6 =\n",
            "- 7 + 7 - 5 - 7 =\n",
            "+ 3 - 6 - 7 - 3 =\n",
            "+ 9 + 9 - 8 =\n",
            "+ 10 + 1 + 10 =\n",
            "+ 8 + 7 + 5 =\n",
            "+ 6 + 6 - 10 - 1 + 6 =\n",
            "\n"
          ]
        }
      ]
    }
  ]
}