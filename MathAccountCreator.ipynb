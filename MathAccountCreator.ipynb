{
  "nbformat": 4,
  "nbformat_minor": 0,
  "metadata": {
    "colab": {
      "name": "MathAccountCreator.ipynb",
      "provenance": [],
      "collapsed_sections": [],
      "authorship_tag": "ABX9TyOGbDfufbo6R+jUyEgj53RT",
      "include_colab_link": true
    },
    "kernelspec": {
      "name": "python3",
      "display_name": "Python 3"
    },
    "language_info": {
      "name": "python"
    }
  },
  "cells": [
    {
      "cell_type": "markdown",
      "metadata": {
        "id": "view-in-github",
        "colab_type": "text"
      },
      "source": [
        "<a href=\"https://colab.research.google.com/github/andersonnb6/MathAccountCreator/blob/main/MathAccountCreator.ipynb\" target=\"_parent\"><img src=\"https://colab.research.google.com/assets/colab-badge.svg\" alt=\"Open In Colab\"/></a>"
      ]
    },
    {
      "cell_type": "markdown",
      "source": [
        "#MathAccountCreator\n",
        "Criador de operações matemáticas com números aleatórios. É possível através de seu uso determinar i intervalo de números a serem usados e a quantidade de números que deve ter em cada linha de operação."
      ],
      "metadata": {
        "id": "FIwGNPudJ6_l"
      }
    },
    {
      "cell_type": "markdown",
      "source": [
        "### Bibiotecas"
      ],
      "metadata": {
        "id": "fPXL0Ou8LgfT"
      }
    },
    {
      "cell_type": "code",
      "source": [
        "import random\n",
        "import pandas as pd\n",
        "import numpy as np"
      ],
      "metadata": {
        "id": "WOuH39iDLZVy"
      },
      "execution_count": 1,
      "outputs": []
    },
    {
      "cell_type": "markdown",
      "source": [
        "### Parâmetros\n",
        "Utilize os parâmetros abaixo para definir como deseja que seja gerada suas operações.\n",
        "\n",
        "\n",
        "*   a: número mínimo de termos na operação\n",
        "*   b: número máximo de termos na operação\n",
        "*   c: maior número a se considerar\n",
        "*   d: menor número a se considerar\n",
        "*   e: total de operações geradas\n",
        "\n"
      ],
      "metadata": {
        "id": "aQzmFbPgLkGh"
      }
    },
    {
      "cell_type": "code",
      "source": [
        "a = 4\n",
        "b = 7\n",
        "c = 1\n",
        "d = 20\n",
        "e = 10"
      ],
      "metadata": {
        "id": "qEq72nUcLo0i"
      },
      "execution_count": 2,
      "outputs": []
    },
    {
      "cell_type": "markdown",
      "source": [
        "### Gerador de contas"
      ],
      "metadata": {
        "id": "nl4YmqOpLshH"
      }
    },
    {
      "cell_type": "code",
      "execution_count": 3,
      "metadata": {
        "id": "s-B0sjevJ51F"
      },
      "outputs": [],
      "source": [
        "# Recebendo parâmetros\n",
        "min_size_account = a\n",
        "max_size_account = b\n",
        "min_numb = c\n",
        "max_numb = d\n",
        "total_account = e\n",
        "\n",
        "# Gerador\n",
        "lst_counts = []\n",
        "str_result = ''\n",
        "i = 0\n",
        "while i < total_account:\n",
        "  # Criando tamanho aleatório de termos na conta\n",
        "  aleatory_size_account = np.random.randint(min_size_account, max_size_account+1, 1)\n",
        "  \n",
        "  # Criando arrays com sinais de operação e números aleatórios\n",
        "  plus_minus = np.random.randint(2, size = aleatory_size_account)\n",
        "  aleatory_numbs = np.random.randint(1, 20, size = aleatory_size_account)\n",
        "\n",
        "  # Loop criador das contas com base nos arrays aleatórios\n",
        "  lst_temp = []\n",
        "  pt = 0\n",
        "  for x in plus_minus:\n",
        "    if plus_minus[pt] == 1:\n",
        "      lst_temp.append('+')\n",
        "    else:\n",
        "      lst_temp.append('-')\n",
        "    lst_temp.append(str(aleatory_numbs[pt]))\n",
        "    pt += 1\n",
        "  \n",
        "  # Criando linha com resultado\n",
        "  result = ' '.join(lst_temp) + ' =\\n'\n",
        "  str_result = str_result + result\n",
        "  \n",
        "  # Pointer do loop\n",
        "  i += 1"
      ]
    },
    {
      "cell_type": "markdown",
      "source": [
        "### Resultados\n",
        "Os resultados são gerados e salvos em arquivo .txt em seu ambiente local. Dessa forma, é possível abrir o arquivo e copiar os dados para onde desejar."
      ],
      "metadata": {
        "id": "tbjw71bALzKp"
      }
    },
    {
      "cell_type": "code",
      "source": [
        "# Criando ou substituindo .txt\n",
        "with open('result.txt', 'w') as f:\n",
        "    f.write('')\n",
        "\n",
        "# Salvando em arquivo .txt\n",
        "with open(\"result.txt\", \"a\") as file_result:\n",
        "  file_result.write(str_result)\n",
        "  file_result.close()\n",
        "\n",
        "# Lendo arquivo .txt\n",
        "with open('result.txt') as file_result:\n",
        "    lines = file_result.readlines()\n",
        "    lines = ''.join(lines)\n",
        "    print(lines)\n",
        "file_result.close()"
      ],
      "metadata": {
        "colab": {
          "base_uri": "https://localhost:8080/"
        },
        "id": "VP66JrK6L0hI",
        "outputId": "e89740f9-ea65-4c5c-86e5-87acd10bc974"
      },
      "execution_count": 4,
      "outputs": [
        {
          "output_type": "stream",
          "name": "stdout",
          "text": [
            "+ 6 + 18 - 16 - 15 + 6 - 6 - 1 =\n",
            "+ 9 + 4 - 10 + 3 =\n",
            "+ 11 + 6 + 2 + 14 - 13 =\n",
            "- 7 + 9 - 14 + 13 - 3 + 6 =\n",
            "+ 15 - 15 - 14 + 2 - 5 - 8 - 1 =\n",
            "+ 2 + 6 + 3 - 17 + 16 - 16 - 1 =\n",
            "- 5 - 3 - 5 + 4 + 15 + 7 - 14 =\n",
            "+ 17 - 5 - 14 + 12 - 17 + 5 =\n",
            "- 3 - 9 + 10 + 5 - 16 =\n",
            "- 2 - 3 - 8 - 2 - 9 - 12 + 15 =\n",
            "\n"
          ]
        }
      ]
    }
  ]
}